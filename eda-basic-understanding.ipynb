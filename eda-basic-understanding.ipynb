{
 "cells": [
  {
   "cell_type": "markdown",
   "metadata": {
    "papermill": {
     "duration": 0.025237,
     "end_time": "2020-12-29T03:38:45.176309",
     "exception": false,
     "start_time": "2020-12-29T03:38:45.151072",
     "status": "completed"
    },
    "tags": []
   },
   "source": [
    "# Firstly, import libraries :"
   ]
  },
  {
   "cell_type": "code",
   "execution_count": 1,
   "metadata": {
    "_cell_guid": "79c7e3d0-c299-4dcb-8224-4455121ee9b0",
    "_uuid": "d629ff2d2480ee46fbb7e2d37f6b5fab8052498a",
    "execution": {
     "iopub.execute_input": "2020-12-29T03:38:45.229496Z",
     "iopub.status.busy": "2020-12-29T03:38:45.228691Z",
     "iopub.status.idle": "2020-12-29T03:38:46.375739Z",
     "shell.execute_reply": "2020-12-29T03:38:46.376265Z"
    },
    "papermill": {
     "duration": 1.176266,
     "end_time": "2020-12-29T03:38:46.376453",
     "exception": false,
     "start_time": "2020-12-29T03:38:45.200187",
     "status": "completed"
    },
    "tags": []
   },
   "outputs": [],
   "source": [
    "import pandas as pd\n",
    "import matplotlib.pyplot as plt\n",
    "import seaborn as sns"
   ]
  },
  {
   "cell_type": "markdown",
   "metadata": {
    "papermill": {
     "duration": 0.023387,
     "end_time": "2020-12-29T03:38:46.424147",
     "exception": false,
     "start_time": "2020-12-29T03:38:46.400760",
     "status": "completed"
    },
    "tags": []
   },
   "source": [
    "# Load the Dataset :"
   ]
  },
  {
   "cell_type": "code",
   "execution_count": 2,
   "metadata": {
    "execution": {
     "iopub.execute_input": "2020-12-29T03:38:46.475273Z",
     "iopub.status.busy": "2020-12-29T03:38:46.474624Z",
     "iopub.status.idle": "2020-12-29T03:38:46.520172Z",
     "shell.execute_reply": "2020-12-29T03:38:46.520664Z"
    },
    "papermill": {
     "duration": 0.073012,
     "end_time": "2020-12-29T03:38:46.520814",
     "exception": false,
     "start_time": "2020-12-29T03:38:46.447802",
     "status": "completed"
    },
    "tags": []
   },
   "outputs": [
    {
     "data": {
      "text/html": [
       "<div>\n",
       "<style scoped>\n",
       "    .dataframe tbody tr th:only-of-type {\n",
       "        vertical-align: middle;\n",
       "    }\n",
       "\n",
       "    .dataframe tbody tr th {\n",
       "        vertical-align: top;\n",
       "    }\n",
       "\n",
       "    .dataframe thead th {\n",
       "        text-align: right;\n",
       "    }\n",
       "</style>\n",
       "<table border=\"1\" class=\"dataframe\">\n",
       "  <thead>\n",
       "    <tr style=\"text-align: right;\">\n",
       "      <th></th>\n",
       "      <th>Unnamed: 0</th>\n",
       "      <th>Ozone</th>\n",
       "      <th>Solar.R</th>\n",
       "      <th>Wind</th>\n",
       "      <th>Temp C</th>\n",
       "      <th>Month</th>\n",
       "      <th>Day</th>\n",
       "      <th>Year</th>\n",
       "      <th>Temp</th>\n",
       "      <th>Weather</th>\n",
       "    </tr>\n",
       "  </thead>\n",
       "  <tbody>\n",
       "    <tr>\n",
       "      <th>0</th>\n",
       "      <td>1</td>\n",
       "      <td>41.0</td>\n",
       "      <td>190.0</td>\n",
       "      <td>7.4</td>\n",
       "      <td>67</td>\n",
       "      <td>5</td>\n",
       "      <td>1</td>\n",
       "      <td>2010</td>\n",
       "      <td>67</td>\n",
       "      <td>S</td>\n",
       "    </tr>\n",
       "    <tr>\n",
       "      <th>1</th>\n",
       "      <td>2</td>\n",
       "      <td>36.0</td>\n",
       "      <td>118.0</td>\n",
       "      <td>8.0</td>\n",
       "      <td>72</td>\n",
       "      <td>5</td>\n",
       "      <td>2</td>\n",
       "      <td>2010</td>\n",
       "      <td>72</td>\n",
       "      <td>C</td>\n",
       "    </tr>\n",
       "    <tr>\n",
       "      <th>2</th>\n",
       "      <td>3</td>\n",
       "      <td>12.0</td>\n",
       "      <td>149.0</td>\n",
       "      <td>12.6</td>\n",
       "      <td>74</td>\n",
       "      <td>5</td>\n",
       "      <td>3</td>\n",
       "      <td>2010</td>\n",
       "      <td>74</td>\n",
       "      <td>PS</td>\n",
       "    </tr>\n",
       "    <tr>\n",
       "      <th>3</th>\n",
       "      <td>4</td>\n",
       "      <td>18.0</td>\n",
       "      <td>313.0</td>\n",
       "      <td>11.5</td>\n",
       "      <td>62</td>\n",
       "      <td>5</td>\n",
       "      <td>4</td>\n",
       "      <td>2010</td>\n",
       "      <td>62</td>\n",
       "      <td>S</td>\n",
       "    </tr>\n",
       "    <tr>\n",
       "      <th>4</th>\n",
       "      <td>5</td>\n",
       "      <td>NaN</td>\n",
       "      <td>NaN</td>\n",
       "      <td>14.3</td>\n",
       "      <td>56</td>\n",
       "      <td>5</td>\n",
       "      <td>5</td>\n",
       "      <td>2010</td>\n",
       "      <td>56</td>\n",
       "      <td>S</td>\n",
       "    </tr>\n",
       "  </tbody>\n",
       "</table>\n",
       "</div>"
      ],
      "text/plain": [
       "   Unnamed: 0  Ozone  Solar.R  Wind Temp C Month  Day  Year  Temp Weather\n",
       "0           1   41.0    190.0   7.4     67     5    1  2010    67       S\n",
       "1           2   36.0    118.0   8.0     72     5    2  2010    72       C\n",
       "2           3   12.0    149.0  12.6     74     5    3  2010    74      PS\n",
       "3           4   18.0    313.0  11.5     62     5    4  2010    62       S\n",
       "4           5    NaN      NaN  14.3     56     5    5  2010    56       S"
      ]
     },
     "execution_count": 2,
     "metadata": {},
     "output_type": "execute_result"
    }
   ],
   "source": [
    "data = pd.read_csv(\"../input/eda-dataclean/Dataclean.csv\")\n",
    "data.head()"
   ]
  },
  {
   "cell_type": "markdown",
   "metadata": {
    "papermill": {
     "duration": 0.024423,
     "end_time": "2020-12-29T03:38:46.569920",
     "exception": false,
     "start_time": "2020-12-29T03:38:46.545497",
     "status": "completed"
    },
    "tags": []
   },
   "source": [
    "# Convert into DataFrame :"
   ]
  },
  {
   "cell_type": "code",
   "execution_count": 3,
   "metadata": {
    "execution": {
     "iopub.execute_input": "2020-12-29T03:38:46.623352Z",
     "iopub.status.busy": "2020-12-29T03:38:46.622723Z",
     "iopub.status.idle": "2020-12-29T03:38:46.628262Z",
     "shell.execute_reply": "2020-12-29T03:38:46.627581Z"
    },
    "papermill": {
     "duration": 0.033028,
     "end_time": "2020-12-29T03:38:46.628408",
     "exception": false,
     "start_time": "2020-12-29T03:38:46.595380",
     "status": "completed"
    },
    "tags": []
   },
   "outputs": [],
   "source": [
    "df = pd.DataFrame(data)"
   ]
  },
  {
   "cell_type": "markdown",
   "metadata": {
    "papermill": {
     "duration": 0.024411,
     "end_time": "2020-12-29T03:38:46.677182",
     "exception": false,
     "start_time": "2020-12-29T03:38:46.652771",
     "status": "completed"
    },
    "tags": []
   },
   "source": [
    "\n",
    "# EDA consists of :\n",
    "\n",
    "Treating Missing Values, Treatment Of Outliers, Feature Engineering"
   ]
  },
  {
   "cell_type": "markdown",
   "metadata": {
    "papermill": {
     "duration": 0.02426,
     "end_time": "2020-12-29T03:38:46.725838",
     "exception": false,
     "start_time": "2020-12-29T03:38:46.701578",
     "status": "completed"
    },
    "tags": []
   },
   "source": [
    "# Get Data type and info :"
   ]
  },
  {
   "cell_type": "code",
   "execution_count": 4,
   "metadata": {
    "execution": {
     "iopub.execute_input": "2020-12-29T03:38:46.789385Z",
     "iopub.status.busy": "2020-12-29T03:38:46.788744Z",
     "iopub.status.idle": "2020-12-29T03:38:46.793132Z",
     "shell.execute_reply": "2020-12-29T03:38:46.793558Z"
    },
    "papermill": {
     "duration": 0.043433,
     "end_time": "2020-12-29T03:38:46.793727",
     "exception": false,
     "start_time": "2020-12-29T03:38:46.750294",
     "status": "completed"
    },
    "tags": []
   },
   "outputs": [
    {
     "name": "stdout",
     "output_type": "stream",
     "text": [
      "<class 'pandas.core.frame.DataFrame'>\n",
      "RangeIndex: 158 entries, 0 to 157\n",
      "Data columns (total 10 columns):\n",
      " #   Column      Non-Null Count  Dtype  \n",
      "---  ------      --------------  -----  \n",
      " 0   Unnamed: 0  158 non-null    int64  \n",
      " 1   Ozone       120 non-null    float64\n",
      " 2   Solar.R     151 non-null    float64\n",
      " 3   Wind        158 non-null    float64\n",
      " 4   Temp C      158 non-null    object \n",
      " 5   Month       158 non-null    object \n",
      " 6   Day         158 non-null    int64  \n",
      " 7   Year        158 non-null    int64  \n",
      " 8   Temp        158 non-null    int64  \n",
      " 9   Weather     155 non-null    object \n",
      "dtypes: float64(3), int64(4), object(3)\n",
      "memory usage: 12.5+ KB\n"
     ]
    }
   ],
   "source": [
    "df.dtypes\n",
    "df.info()"
   ]
  },
  {
   "cell_type": "markdown",
   "metadata": {
    "papermill": {
     "duration": 0.025225,
     "end_time": "2020-12-29T03:38:46.844116",
     "exception": false,
     "start_time": "2020-12-29T03:38:46.818891",
     "status": "completed"
    },
    "tags": []
   },
   "source": [
    "# TypeConversion Of Datatype :\n",
    "\n",
    " Here, in data we have 'object' datatype ,so we have to convert it into required datatype \n",
    " ex : month is numeric datatype so we can't perform stats on 'object' data type so we have to convert it into 'float'\n",
    " \n",
    " \n",
    "> from info we get 'object' data type for 'Temp c', 'Month', 'Weather'"
   ]
  },
  {
   "cell_type": "code",
   "execution_count": 5,
   "metadata": {
    "execution": {
     "iopub.execute_input": "2020-12-29T03:38:46.906514Z",
     "iopub.status.busy": "2020-12-29T03:38:46.905859Z",
     "iopub.status.idle": "2020-12-29T03:38:46.916105Z",
     "shell.execute_reply": "2020-12-29T03:38:46.916646Z"
    },
    "papermill": {
     "duration": 0.047274,
     "end_time": "2020-12-29T03:38:46.916830",
     "exception": false,
     "start_time": "2020-12-29T03:38:46.869556",
     "status": "completed"
    },
    "tags": []
   },
   "outputs": [
    {
     "name": "stdout",
     "output_type": "stream",
     "text": [
      "<class 'pandas.core.frame.DataFrame'>\n",
      "RangeIndex: 158 entries, 0 to 157\n",
      "Data columns (total 10 columns):\n",
      " #   Column      Non-Null Count  Dtype   \n",
      "---  ------      --------------  -----   \n",
      " 0   Unnamed: 0  158 non-null    int64   \n",
      " 1   Ozone       120 non-null    float64 \n",
      " 2   Solar.R     151 non-null    float64 \n",
      " 3   Wind        158 non-null    float64 \n",
      " 4   Temp C      157 non-null    float64 \n",
      " 5   Month       157 non-null    float64 \n",
      " 6   Day         158 non-null    int64   \n",
      " 7   Year        158 non-null    int64   \n",
      " 8   Temp        158 non-null    int64   \n",
      " 9   Weather     155 non-null    category\n",
      "dtypes: category(1), float64(5), int64(4)\n",
      "memory usage: 11.5 KB\n"
     ]
    }
   ],
   "source": [
    "df[\"Month\"] = pd.to_numeric(df[\"Month\"], errors='coerce')\n",
    "df[\"Temp C\"] = pd.to_numeric(df[\"Temp C\"], errors='coerce')\n",
    "df[\"Weather\"] = df[\"Weather\"].astype('category')\n",
    "df.info()"
   ]
  },
  {
   "cell_type": "markdown",
   "metadata": {
    "papermill": {
     "duration": 0.025454,
     "end_time": "2020-12-29T03:38:46.968833",
     "exception": false,
     "start_time": "2020-12-29T03:38:46.943379",
     "status": "completed"
    },
    "tags": []
   },
   "source": [
    " # Drop Column :\n",
    " \n",
    " Here, First column is just index so we do not that , so drop 1st column from df and assign new dataframe df2"
   ]
  },
  {
   "cell_type": "code",
   "execution_count": 6,
   "metadata": {
    "execution": {
     "iopub.execute_input": "2020-12-29T03:38:47.030198Z",
     "iopub.status.busy": "2020-12-29T03:38:47.029531Z",
     "iopub.status.idle": "2020-12-29T03:38:47.058738Z",
     "shell.execute_reply": "2020-12-29T03:38:47.059194Z"
    },
    "papermill": {
     "duration": 0.0641,
     "end_time": "2020-12-29T03:38:47.059356",
     "exception": false,
     "start_time": "2020-12-29T03:38:46.995256",
     "status": "completed"
    },
    "tags": []
   },
   "outputs": [
    {
     "data": {
      "text/html": [
       "<div>\n",
       "<style scoped>\n",
       "    .dataframe tbody tr th:only-of-type {\n",
       "        vertical-align: middle;\n",
       "    }\n",
       "\n",
       "    .dataframe tbody tr th {\n",
       "        vertical-align: top;\n",
       "    }\n",
       "\n",
       "    .dataframe thead th {\n",
       "        text-align: right;\n",
       "    }\n",
       "</style>\n",
       "<table border=\"1\" class=\"dataframe\">\n",
       "  <thead>\n",
       "    <tr style=\"text-align: right;\">\n",
       "      <th></th>\n",
       "      <th>Ozone</th>\n",
       "      <th>Solar.R</th>\n",
       "      <th>Wind</th>\n",
       "      <th>Temp C</th>\n",
       "      <th>Month</th>\n",
       "      <th>Day</th>\n",
       "      <th>Year</th>\n",
       "      <th>Temp</th>\n",
       "    </tr>\n",
       "  </thead>\n",
       "  <tbody>\n",
       "    <tr>\n",
       "      <th>count</th>\n",
       "      <td>120.000000</td>\n",
       "      <td>151.000000</td>\n",
       "      <td>158.000000</td>\n",
       "      <td>157.000000</td>\n",
       "      <td>157.000000</td>\n",
       "      <td>158.000000</td>\n",
       "      <td>158.0</td>\n",
       "      <td>158.000000</td>\n",
       "    </tr>\n",
       "    <tr>\n",
       "      <th>mean</th>\n",
       "      <td>41.583333</td>\n",
       "      <td>185.403974</td>\n",
       "      <td>9.957595</td>\n",
       "      <td>77.751592</td>\n",
       "      <td>7.044586</td>\n",
       "      <td>16.006329</td>\n",
       "      <td>2010.0</td>\n",
       "      <td>77.727848</td>\n",
       "    </tr>\n",
       "    <tr>\n",
       "      <th>std</th>\n",
       "      <td>32.620709</td>\n",
       "      <td>88.723103</td>\n",
       "      <td>3.511261</td>\n",
       "      <td>9.403120</td>\n",
       "      <td>1.433768</td>\n",
       "      <td>8.997166</td>\n",
       "      <td>0.0</td>\n",
       "      <td>9.377877</td>\n",
       "    </tr>\n",
       "    <tr>\n",
       "      <th>min</th>\n",
       "      <td>1.000000</td>\n",
       "      <td>7.000000</td>\n",
       "      <td>1.700000</td>\n",
       "      <td>56.000000</td>\n",
       "      <td>5.000000</td>\n",
       "      <td>1.000000</td>\n",
       "      <td>2010.0</td>\n",
       "      <td>56.000000</td>\n",
       "    </tr>\n",
       "    <tr>\n",
       "      <th>25%</th>\n",
       "      <td>18.000000</td>\n",
       "      <td>119.000000</td>\n",
       "      <td>7.400000</td>\n",
       "      <td>72.000000</td>\n",
       "      <td>6.000000</td>\n",
       "      <td>8.000000</td>\n",
       "      <td>2010.0</td>\n",
       "      <td>72.000000</td>\n",
       "    </tr>\n",
       "    <tr>\n",
       "      <th>50%</th>\n",
       "      <td>30.500000</td>\n",
       "      <td>197.000000</td>\n",
       "      <td>9.700000</td>\n",
       "      <td>79.000000</td>\n",
       "      <td>7.000000</td>\n",
       "      <td>16.000000</td>\n",
       "      <td>2010.0</td>\n",
       "      <td>78.500000</td>\n",
       "    </tr>\n",
       "    <tr>\n",
       "      <th>75%</th>\n",
       "      <td>61.500000</td>\n",
       "      <td>257.000000</td>\n",
       "      <td>11.875000</td>\n",
       "      <td>84.000000</td>\n",
       "      <td>8.000000</td>\n",
       "      <td>24.000000</td>\n",
       "      <td>2010.0</td>\n",
       "      <td>84.000000</td>\n",
       "    </tr>\n",
       "    <tr>\n",
       "      <th>max</th>\n",
       "      <td>168.000000</td>\n",
       "      <td>334.000000</td>\n",
       "      <td>20.700000</td>\n",
       "      <td>97.000000</td>\n",
       "      <td>9.000000</td>\n",
       "      <td>31.000000</td>\n",
       "      <td>2010.0</td>\n",
       "      <td>97.000000</td>\n",
       "    </tr>\n",
       "  </tbody>\n",
       "</table>\n",
       "</div>"
      ],
      "text/plain": [
       "            Ozone     Solar.R        Wind      Temp C       Month         Day  \\\n",
       "count  120.000000  151.000000  158.000000  157.000000  157.000000  158.000000   \n",
       "mean    41.583333  185.403974    9.957595   77.751592    7.044586   16.006329   \n",
       "std     32.620709   88.723103    3.511261    9.403120    1.433768    8.997166   \n",
       "min      1.000000    7.000000    1.700000   56.000000    5.000000    1.000000   \n",
       "25%     18.000000  119.000000    7.400000   72.000000    6.000000    8.000000   \n",
       "50%     30.500000  197.000000    9.700000   79.000000    7.000000   16.000000   \n",
       "75%     61.500000  257.000000   11.875000   84.000000    8.000000   24.000000   \n",
       "max    168.000000  334.000000   20.700000   97.000000    9.000000   31.000000   \n",
       "\n",
       "         Year        Temp  \n",
       "count   158.0  158.000000  \n",
       "mean   2010.0   77.727848  \n",
       "std       0.0    9.377877  \n",
       "min    2010.0   56.000000  \n",
       "25%    2010.0   72.000000  \n",
       "50%    2010.0   78.500000  \n",
       "75%    2010.0   84.000000  \n",
       "max    2010.0   97.000000  "
      ]
     },
     "execution_count": 6,
     "metadata": {},
     "output_type": "execute_result"
    }
   ],
   "source": [
    "df2 = df.iloc[:,1:]\n",
    "df2.describe()"
   ]
  },
  {
   "cell_type": "markdown",
   "metadata": {
    "papermill": {
     "duration": 0.025867,
     "end_time": "2020-12-29T03:38:47.110878",
     "exception": false,
     "start_time": "2020-12-29T03:38:47.085011",
     "status": "completed"
    },
    "tags": []
   },
   "source": [
    "# Remove Duplicate Method :"
   ]
  },
  {
   "cell_type": "code",
   "execution_count": 7,
   "metadata": {
    "execution": {
     "iopub.execute_input": "2020-12-29T03:38:47.166249Z",
     "iopub.status.busy": "2020-12-29T03:38:47.165648Z",
     "iopub.status.idle": "2020-12-29T03:38:47.179396Z",
     "shell.execute_reply": "2020-12-29T03:38:47.179925Z"
    },
    "papermill": {
     "duration": 0.043376,
     "end_time": "2020-12-29T03:38:47.180108",
     "exception": false,
     "start_time": "2020-12-29T03:38:47.136732",
     "status": "completed"
    },
    "tags": []
   },
   "outputs": [
    {
     "data": {
      "text/plain": [
       "(1, 9)"
      ]
     },
     "execution_count": 7,
     "metadata": {},
     "output_type": "execute_result"
    }
   ],
   "source": [
    "df2[df2.duplicated()]                         #this will give duplicate value\n",
    "df2[df2.duplicated()].shape                   # this will give shape of how many rows has buplicate data\n"
   ]
  },
  {
   "cell_type": "markdown",
   "metadata": {
    "papermill": {
     "duration": 0.026731,
     "end_time": "2020-12-29T03:38:47.233162",
     "exception": false,
     "start_time": "2020-12-29T03:38:47.206431",
     "status": "completed"
    },
    "tags": []
   },
   "source": [
    "# Drop Duplicate Data :"
   ]
  },
  {
   "cell_type": "code",
   "execution_count": 8,
   "metadata": {
    "execution": {
     "iopub.execute_input": "2020-12-29T03:38:47.289304Z",
     "iopub.status.busy": "2020-12-29T03:38:47.288702Z",
     "iopub.status.idle": "2020-12-29T03:38:47.297418Z",
     "shell.execute_reply": "2020-12-29T03:38:47.296855Z"
    },
    "papermill": {
     "duration": 0.038229,
     "end_time": "2020-12-29T03:38:47.297526",
     "exception": false,
     "start_time": "2020-12-29T03:38:47.259297",
     "status": "completed"
    },
    "tags": []
   },
   "outputs": [
    {
     "data": {
      "text/plain": [
       "(157, 9)"
      ]
     },
     "execution_count": 8,
     "metadata": {},
     "output_type": "execute_result"
    }
   ],
   "source": [
    "df2_cleaned1 = df2.drop_duplicates()                   #this is how to drop duplicate row data\n",
    "df2_cleaned1.shape"
   ]
  },
  {
   "cell_type": "markdown",
   "metadata": {
    "papermill": {
     "duration": 0.028429,
     "end_time": "2020-12-29T03:38:47.358304",
     "exception": false,
     "start_time": "2020-12-29T03:38:47.329875",
     "status": "completed"
    },
    "tags": []
   },
   "source": [
    "# Clean Unneccessery Column :\n",
    "\n",
    " Drop 'Temp C' column from dataset "
   ]
  },
  {
   "cell_type": "code",
   "execution_count": 9,
   "metadata": {
    "execution": {
     "iopub.execute_input": "2020-12-29T03:38:47.415060Z",
     "iopub.status.busy": "2020-12-29T03:38:47.414391Z",
     "iopub.status.idle": "2020-12-29T03:38:47.419583Z",
     "shell.execute_reply": "2020-12-29T03:38:47.420076Z"
    },
    "papermill": {
     "duration": 0.035075,
     "end_time": "2020-12-29T03:38:47.420226",
     "exception": false,
     "start_time": "2020-12-29T03:38:47.385151",
     "status": "completed"
    },
    "tags": []
   },
   "outputs": [],
   "source": [
    "df2_cleaned2 = df2_cleaned1.drop('Temp C', axis = 1)  # to drop columns from data to clean it"
   ]
  },
  {
   "cell_type": "markdown",
   "metadata": {
    "papermill": {
     "duration": 0.025985,
     "end_time": "2020-12-29T03:38:47.472716",
     "exception": false,
     "start_time": "2020-12-29T03:38:47.446731",
     "status": "completed"
    },
    "tags": []
   },
   "source": [
    "# Rename Column Name :\n",
    "\n",
    "  change 'Solar.R' column name to 'solar'"
   ]
  },
  {
   "cell_type": "code",
   "execution_count": 10,
   "metadata": {
    "execution": {
     "iopub.execute_input": "2020-12-29T03:38:47.531278Z",
     "iopub.status.busy": "2020-12-29T03:38:47.530273Z",
     "iopub.status.idle": "2020-12-29T03:38:47.535527Z",
     "shell.execute_reply": "2020-12-29T03:38:47.536014Z"
    },
    "papermill": {
     "duration": 0.036198,
     "end_time": "2020-12-29T03:38:47.536185",
     "exception": false,
     "start_time": "2020-12-29T03:38:47.499987",
     "status": "completed"
    },
    "tags": []
   },
   "outputs": [],
   "source": [
    "df2_cleaned3 = df2_cleaned2.rename({'Solar.R' : 'solar'}, axis = 1)        #to rename the columnname"
   ]
  },
  {
   "cell_type": "markdown",
   "metadata": {
    "papermill": {
     "duration": 0.025937,
     "end_time": "2020-12-29T03:38:47.588938",
     "exception": false,
     "start_time": "2020-12-29T03:38:47.563001",
     "status": "completed"
    },
    "tags": []
   },
   "source": [
    "# Outlier Detection :\n",
    "\n",
    "To find Outliers we have to visulize data\n",
    "\n",
    "Here, we're using 'Ozone' column data to find outliers"
   ]
  },
  {
   "cell_type": "markdown",
   "metadata": {
    "papermill": {
     "duration": 0.026807,
     "end_time": "2020-12-29T03:38:47.643132",
     "exception": false,
     "start_time": "2020-12-29T03:38:47.616325",
     "status": "completed"
    },
    "tags": []
   },
   "source": [
    "using histogram :"
   ]
  },
  {
   "cell_type": "code",
   "execution_count": 11,
   "metadata": {
    "execution": {
     "iopub.execute_input": "2020-12-29T03:38:47.700253Z",
     "iopub.status.busy": "2020-12-29T03:38:47.699293Z",
     "iopub.status.idle": "2020-12-29T03:38:47.921727Z",
     "shell.execute_reply": "2020-12-29T03:38:47.922193Z"
    },
    "papermill": {
     "duration": 0.252234,
     "end_time": "2020-12-29T03:38:47.922352",
     "exception": false,
     "start_time": "2020-12-29T03:38:47.670118",
     "status": "completed"
    },
    "tags": []
   },
   "outputs": [
    {
     "name": "stderr",
     "output_type": "stream",
     "text": [
      "/opt/conda/lib/python3.7/site-packages/numpy/lib/histograms.py:839: RuntimeWarning: invalid value encountered in greater_equal\n",
      "  keep = (tmp_a >= first_edge)\n",
      "/opt/conda/lib/python3.7/site-packages/numpy/lib/histograms.py:840: RuntimeWarning: invalid value encountered in less_equal\n",
      "  keep &= (tmp_a <= last_edge)\n"
     ]
    },
    {
     "data": {
      "text/plain": [
       "(array([28., 36., 21.,  9., 11.,  7.,  3.,  2.,  1.,  1.]),\n",
       " array([  1. ,  17.7,  34.4,  51.1,  67.8,  84.5, 101.2, 117.9, 134.6,\n",
       "        151.3, 168. ]),\n",
       " <a list of 10 Patch objects>)"
      ]
     },
     "execution_count": 11,
     "metadata": {},
     "output_type": "execute_result"
    },
    {
     "data": {
      "image/png": "[encoded data removed]",
      "text/plain": [
       "<Figure size 432x288 with 1 Axes>"
      ]
     },
     "metadata": {
      "needs_background": "light"
     },
     "output_type": "display_data"
    }
   ],
   "source": [
    "plt.hist(df2_cleaned3[\"Ozone\"])"
   ]
  },
  {
   "cell_type": "markdown",
   "metadata": {
    "papermill": {
     "duration": 0.027929,
     "end_time": "2020-12-29T03:38:47.977993",
     "exception": false,
     "start_time": "2020-12-29T03:38:47.950064",
     "status": "completed"
    },
    "tags": []
   },
   "source": [
    "using Boxplot :"
   ]
  },
  {
   "cell_type": "code",
   "execution_count": 12,
   "metadata": {
    "execution": {
     "iopub.execute_input": "2020-12-29T03:38:48.038908Z",
     "iopub.status.busy": "2020-12-29T03:38:48.038199Z",
     "iopub.status.idle": "2020-12-29T03:38:48.170187Z",
     "shell.execute_reply": "2020-12-29T03:38:48.169529Z"
    },
    "papermill": {
     "duration": 0.164443,
     "end_time": "2020-12-29T03:38:48.170315",
     "exception": false,
     "start_time": "2020-12-29T03:38:48.005872",
     "status": "completed"
    },
    "tags": []
   },
   "outputs": [
    {
     "data": {
      "text/plain": [
       "<matplotlib.axes._subplots.AxesSubplot at 0x7f6d452b2a90>"
      ]
     },
     "execution_count": 12,
     "metadata": {},
     "output_type": "execute_result"
    },
    {
     "data": {
      "image/png": "[encoded data removed]",
      "text/plain": [
       "<Figure size 432x288 with 1 Axes>"
      ]
     },
     "metadata": {
      "needs_background": "light"
     },
     "output_type": "display_data"
    }
   ],
   "source": [
    "df2_cleaned3.boxplot(column=[\"Ozone\"])"
   ]
  },
  {
   "cell_type": "markdown",
   "metadata": {
    "papermill": {
     "duration": 0.028318,
     "end_time": "2020-12-29T03:38:48.227249",
     "exception": false,
     "start_time": "2020-12-29T03:38:48.198931",
     "status": "completed"
    },
    "tags": []
   },
   "source": [
    "# Retrive the outlier data :\n",
    "\n",
    " From above fig. we can see that the outliers lie above 125."
   ]
  },
  {
   "cell_type": "code",
   "execution_count": 13,
   "metadata": {
    "execution": {
     "iopub.execute_input": "2020-12-29T03:38:48.291415Z",
     "iopub.status.busy": "2020-12-29T03:38:48.290641Z",
     "iopub.status.idle": "2020-12-29T03:38:48.328197Z",
     "shell.execute_reply": "2020-12-29T03:38:48.328775Z"
    },
    "papermill": {
     "duration": 0.072775,
     "end_time": "2020-12-29T03:38:48.328935",
     "exception": false,
     "start_time": "2020-12-29T03:38:48.256160",
     "status": "completed"
    },
    "tags": []
   },
   "outputs": [
    {
     "data": {
      "text/html": [
       "<div>\n",
       "<style scoped>\n",
       "    .dataframe tbody tr th:only-of-type {\n",
       "        vertical-align: middle;\n",
       "    }\n",
       "\n",
       "    .dataframe tbody tr th {\n",
       "        vertical-align: top;\n",
       "    }\n",
       "\n",
       "    .dataframe thead th {\n",
       "        text-align: right;\n",
       "    }\n",
       "</style>\n",
       "<table border=\"1\" class=\"dataframe\">\n",
       "  <thead>\n",
       "    <tr style=\"text-align: right;\">\n",
       "      <th></th>\n",
       "      <th>Ozone</th>\n",
       "      <th>solar</th>\n",
       "      <th>Wind</th>\n",
       "      <th>Month</th>\n",
       "      <th>Day</th>\n",
       "      <th>Year</th>\n",
       "      <th>Temp</th>\n",
       "      <th>Weather</th>\n",
       "    </tr>\n",
       "  </thead>\n",
       "  <tbody>\n",
       "    <tr>\n",
       "      <th>61</th>\n",
       "      <td>135.0</td>\n",
       "      <td>269.0</td>\n",
       "      <td>4.1</td>\n",
       "      <td>7.0</td>\n",
       "      <td>1</td>\n",
       "      <td>2010</td>\n",
       "      <td>84</td>\n",
       "      <td>S</td>\n",
       "    </tr>\n",
       "    <tr>\n",
       "      <th>116</th>\n",
       "      <td>168.0</td>\n",
       "      <td>238.0</td>\n",
       "      <td>3.4</td>\n",
       "      <td>8.0</td>\n",
       "      <td>25</td>\n",
       "      <td>2010</td>\n",
       "      <td>81</td>\n",
       "      <td>PS</td>\n",
       "    </tr>\n",
       "  </tbody>\n",
       "</table>\n",
       "</div>"
      ],
      "text/plain": [
       "     Ozone  solar  Wind  Month  Day  Year  Temp Weather\n",
       "61   135.0  269.0   4.1    7.0    1  2010    84       S\n",
       "116  168.0  238.0   3.4    8.0   25  2010    81      PS"
      ]
     },
     "execution_count": 13,
     "metadata": {},
     "output_type": "execute_result"
    }
   ],
   "source": [
    "df2_cleaned3[df2_cleaned3.Ozone>125]"
   ]
  },
  {
   "cell_type": "markdown",
   "metadata": {
    "papermill": {
     "duration": 0.029055,
     "end_time": "2020-12-29T03:38:48.387377",
     "exception": false,
     "start_time": "2020-12-29T03:38:48.358322",
     "status": "completed"
    },
    "tags": []
   },
   "source": [
    "# Remove the row which have outlier data :"
   ]
  },
  {
   "cell_type": "code",
   "execution_count": 14,
   "metadata": {
    "execution": {
     "iopub.execute_input": "2020-12-29T03:38:48.450372Z",
     "iopub.status.busy": "2020-12-29T03:38:48.449766Z",
     "iopub.status.idle": "2020-12-29T03:38:48.468918Z",
     "shell.execute_reply": "2020-12-29T03:38:48.469428Z"
    },
    "papermill": {
     "duration": 0.053161,
     "end_time": "2020-12-29T03:38:48.469575",
     "exception": false,
     "start_time": "2020-12-29T03:38:48.416414",
     "status": "completed"
    },
    "tags": []
   },
   "outputs": [
    {
     "data": {
      "text/html": [
       "<div>\n",
       "<style scoped>\n",
       "    .dataframe tbody tr th:only-of-type {\n",
       "        vertical-align: middle;\n",
       "    }\n",
       "\n",
       "    .dataframe tbody tr th {\n",
       "        vertical-align: top;\n",
       "    }\n",
       "\n",
       "    .dataframe thead th {\n",
       "        text-align: right;\n",
       "    }\n",
       "</style>\n",
       "<table border=\"1\" class=\"dataframe\">\n",
       "  <thead>\n",
       "    <tr style=\"text-align: right;\">\n",
       "      <th></th>\n",
       "      <th>Ozone</th>\n",
       "      <th>solar</th>\n",
       "      <th>Wind</th>\n",
       "      <th>Month</th>\n",
       "      <th>Day</th>\n",
       "      <th>Year</th>\n",
       "      <th>Temp</th>\n",
       "      <th>Weather</th>\n",
       "    </tr>\n",
       "  </thead>\n",
       "  <tbody>\n",
       "    <tr>\n",
       "      <th>0</th>\n",
       "      <td>41.0</td>\n",
       "      <td>190.0</td>\n",
       "      <td>7.4</td>\n",
       "      <td>5.0</td>\n",
       "      <td>1</td>\n",
       "      <td>2010</td>\n",
       "      <td>67</td>\n",
       "      <td>S</td>\n",
       "    </tr>\n",
       "    <tr>\n",
       "      <th>1</th>\n",
       "      <td>36.0</td>\n",
       "      <td>118.0</td>\n",
       "      <td>8.0</td>\n",
       "      <td>5.0</td>\n",
       "      <td>2</td>\n",
       "      <td>2010</td>\n",
       "      <td>72</td>\n",
       "      <td>C</td>\n",
       "    </tr>\n",
       "    <tr>\n",
       "      <th>2</th>\n",
       "      <td>12.0</td>\n",
       "      <td>149.0</td>\n",
       "      <td>12.6</td>\n",
       "      <td>5.0</td>\n",
       "      <td>3</td>\n",
       "      <td>2010</td>\n",
       "      <td>74</td>\n",
       "      <td>PS</td>\n",
       "    </tr>\n",
       "    <tr>\n",
       "      <th>3</th>\n",
       "      <td>18.0</td>\n",
       "      <td>313.0</td>\n",
       "      <td>11.5</td>\n",
       "      <td>5.0</td>\n",
       "      <td>4</td>\n",
       "      <td>2010</td>\n",
       "      <td>62</td>\n",
       "      <td>S</td>\n",
       "    </tr>\n",
       "    <tr>\n",
       "      <th>4</th>\n",
       "      <td>NaN</td>\n",
       "      <td>NaN</td>\n",
       "      <td>14.3</td>\n",
       "      <td>5.0</td>\n",
       "      <td>5</td>\n",
       "      <td>2010</td>\n",
       "      <td>56</td>\n",
       "      <td>S</td>\n",
       "    </tr>\n",
       "    <tr>\n",
       "      <th>...</th>\n",
       "      <td>...</td>\n",
       "      <td>...</td>\n",
       "      <td>...</td>\n",
       "      <td>...</td>\n",
       "      <td>...</td>\n",
       "      <td>...</td>\n",
       "      <td>...</td>\n",
       "      <td>...</td>\n",
       "    </tr>\n",
       "    <tr>\n",
       "      <th>152</th>\n",
       "      <td>20.0</td>\n",
       "      <td>223.0</td>\n",
       "      <td>11.5</td>\n",
       "      <td>9.0</td>\n",
       "      <td>30</td>\n",
       "      <td>2010</td>\n",
       "      <td>68</td>\n",
       "      <td>S</td>\n",
       "    </tr>\n",
       "    <tr>\n",
       "      <th>153</th>\n",
       "      <td>41.0</td>\n",
       "      <td>190.0</td>\n",
       "      <td>7.4</td>\n",
       "      <td>5.0</td>\n",
       "      <td>1</td>\n",
       "      <td>2010</td>\n",
       "      <td>67</td>\n",
       "      <td>C</td>\n",
       "    </tr>\n",
       "    <tr>\n",
       "      <th>154</th>\n",
       "      <td>30.0</td>\n",
       "      <td>193.0</td>\n",
       "      <td>6.9</td>\n",
       "      <td>9.0</td>\n",
       "      <td>26</td>\n",
       "      <td>2010</td>\n",
       "      <td>70</td>\n",
       "      <td>PS</td>\n",
       "    </tr>\n",
       "    <tr>\n",
       "      <th>155</th>\n",
       "      <td>NaN</td>\n",
       "      <td>145.0</td>\n",
       "      <td>13.2</td>\n",
       "      <td>9.0</td>\n",
       "      <td>27</td>\n",
       "      <td>2010</td>\n",
       "      <td>77</td>\n",
       "      <td>S</td>\n",
       "    </tr>\n",
       "    <tr>\n",
       "      <th>157</th>\n",
       "      <td>18.0</td>\n",
       "      <td>131.0</td>\n",
       "      <td>8.0</td>\n",
       "      <td>9.0</td>\n",
       "      <td>29</td>\n",
       "      <td>2010</td>\n",
       "      <td>76</td>\n",
       "      <td>C</td>\n",
       "    </tr>\n",
       "  </tbody>\n",
       "</table>\n",
       "<p>155 rows × 8 columns</p>\n",
       "</div>"
      ],
      "text/plain": [
       "     Ozone  solar  Wind  Month  Day  Year  Temp Weather\n",
       "0     41.0  190.0   7.4    5.0    1  2010    67       S\n",
       "1     36.0  118.0   8.0    5.0    2  2010    72       C\n",
       "2     12.0  149.0  12.6    5.0    3  2010    74      PS\n",
       "3     18.0  313.0  11.5    5.0    4  2010    62       S\n",
       "4      NaN    NaN  14.3    5.0    5  2010    56       S\n",
       "..     ...    ...   ...    ...  ...   ...   ...     ...\n",
       "152   20.0  223.0  11.5    9.0   30  2010    68       S\n",
       "153   41.0  190.0   7.4    5.0    1  2010    67       C\n",
       "154   30.0  193.0   6.9    9.0   26  2010    70      PS\n",
       "155    NaN  145.0  13.2    9.0   27  2010    77       S\n",
       "157   18.0  131.0   8.0    9.0   29  2010    76       C\n",
       "\n",
       "[155 rows x 8 columns]"
      ]
     },
     "execution_count": 14,
     "metadata": {},
     "output_type": "execute_result"
    }
   ],
   "source": [
    "df2_cleaned3.drop([61, 116])"
   ]
  },
  {
   "cell_type": "markdown",
   "metadata": {
    "papermill": {
     "duration": 0.03005,
     "end_time": "2020-12-29T03:38:48.529361",
     "exception": false,
     "start_time": "2020-12-29T03:38:48.499311",
     "status": "completed"
    },
    "tags": []
   },
   "source": [
    "# Categorical Data :\n",
    "\n",
    " visulization of categorical data "
   ]
  },
  {
   "cell_type": "code",
   "execution_count": 15,
   "metadata": {
    "execution": {
     "iopub.execute_input": "2020-12-29T03:38:48.605360Z",
     "iopub.status.busy": "2020-12-29T03:38:48.604675Z",
     "iopub.status.idle": "2020-12-29T03:38:48.717040Z",
     "shell.execute_reply": "2020-12-29T03:38:48.716343Z"
    },
    "papermill": {
     "duration": 0.157419,
     "end_time": "2020-12-29T03:38:48.717177",
     "exception": false,
     "start_time": "2020-12-29T03:38:48.559758",
     "status": "completed"
    },
    "tags": []
   },
   "outputs": [
    {
     "data": {
      "text/plain": [
       "S     59\n",
       "C     49\n",
       "PS    47\n",
       "Name: Weather, dtype: int64"
      ]
     },
     "execution_count": 15,
     "metadata": {},
     "output_type": "execute_result"
    },
    {
     "data": {
      "image/png": "[encoded data removed]",
      "text/plain": [
       "<Figure size 432x288 with 1 Axes>"
      ]
     },
     "metadata": {
      "needs_background": "light"
     },
     "output_type": "display_data"
    }
   ],
   "source": [
    "df['Weather'].value_counts().plot.bar()\n",
    "df['Weather'].value_counts()"
   ]
  },
  {
   "cell_type": "markdown",
   "metadata": {
    "papermill": {
     "duration": 0.030934,
     "end_time": "2020-12-29T03:38:48.779573",
     "exception": false,
     "start_time": "2020-12-29T03:38:48.748639",
     "status": "completed"
    },
    "tags": []
   },
   "source": [
    "# Missing Values and Imputation :\n",
    "\n",
    " identify howmany missing values lies"
   ]
  },
  {
   "cell_type": "code",
   "execution_count": 16,
   "metadata": {
    "execution": {
     "iopub.execute_input": "2020-12-29T03:38:48.853389Z",
     "iopub.status.busy": "2020-12-29T03:38:48.846724Z",
     "iopub.status.idle": "2020-12-29T03:38:48.858211Z",
     "shell.execute_reply": "2020-12-29T03:38:48.857695Z"
    },
    "papermill": {
     "duration": 0.048054,
     "end_time": "2020-12-29T03:38:48.858324",
     "exception": false,
     "start_time": "2020-12-29T03:38:48.810270",
     "status": "completed"
    },
    "tags": []
   },
   "outputs": [
    {
     "name": "stdout",
     "output_type": "stream",
     "text": [
      "<class 'pandas.core.frame.DataFrame'>\n",
      "Int64Index: 157 entries, 0 to 157\n",
      "Data columns (total 8 columns):\n",
      " #   Column   Non-Null Count  Dtype   \n",
      "---  ------   --------------  -----   \n",
      " 0   Ozone    119 non-null    float64 \n",
      " 1   solar    150 non-null    float64 \n",
      " 2   Wind     157 non-null    float64 \n",
      " 3   Month    156 non-null    float64 \n",
      " 4   Day      157 non-null    int64   \n",
      " 5   Year     157 non-null    int64   \n",
      " 6   Temp     157 non-null    int64   \n",
      " 7   Weather  154 non-null    category\n",
      "dtypes: category(1), float64(4), int64(3)\n",
      "memory usage: 15.1 KB\n"
     ]
    }
   ],
   "source": [
    "df2_cleaned3.info()"
   ]
  },
  {
   "cell_type": "markdown",
   "metadata": {
    "papermill": {
     "duration": 0.030993,
     "end_time": "2020-12-29T03:38:48.921477",
     "exception": false,
     "start_time": "2020-12-29T03:38:48.890484",
     "status": "completed"
    },
    "tags": []
   },
   "source": [
    "# Visulization of missing value using Heatmap :"
   ]
  },
  {
   "cell_type": "code",
   "execution_count": 17,
   "metadata": {
    "execution": {
     "iopub.execute_input": "2020-12-29T03:38:48.995490Z",
     "iopub.status.busy": "2020-12-29T03:38:48.994413Z",
     "iopub.status.idle": "2020-12-29T03:38:49.282322Z",
     "shell.execute_reply": "2020-12-29T03:38:49.282857Z"
    },
    "papermill": {
     "duration": 0.329289,
     "end_time": "2020-12-29T03:38:49.283023",
     "exception": false,
     "start_time": "2020-12-29T03:38:48.953734",
     "status": "completed"
    },
    "tags": []
   },
   "outputs": [
    {
     "data": {
      "text/plain": [
       "<matplotlib.axes._subplots.AxesSubplot at 0x7f6d44131050>"
      ]
     },
     "execution_count": 17,
     "metadata": {},
     "output_type": "execute_result"
    },
    {
     "data": {
      "image/png": "[encoded data removed]",
      "text/plain": [
       "<Figure size 432x288 with 2 Axes>"
      ]
     },
     "metadata": {
      "needs_background": "light"
     },
     "output_type": "display_data"
    }
   ],
   "source": [
    "cols = df2_cleaned3.columns\n",
    "colours = [\"#000099\", \"#ffff00\"]\n",
    "sns.heatmap(df2_cleaned3[cols].isnull(), cmap=sns.color_palette(colours))\n"
   ]
  },
  {
   "cell_type": "markdown",
   "metadata": {
    "papermill": {
     "duration": 0.04983,
     "end_time": "2020-12-29T03:38:49.365919",
     "exception": false,
     "start_time": "2020-12-29T03:38:49.316089",
     "status": "completed"
    },
    "tags": []
   },
   "source": [
    "# Row vise Null value detection :"
   ]
  },
  {
   "cell_type": "code",
   "execution_count": 18,
   "metadata": {
    "execution": {
     "iopub.execute_input": "2020-12-29T03:38:49.466900Z",
     "iopub.status.busy": "2020-12-29T03:38:49.466051Z",
     "iopub.status.idle": "2020-12-29T03:38:49.470849Z",
     "shell.execute_reply": "2020-12-29T03:38:49.471286Z"
    },
    "papermill": {
     "duration": 0.053707,
     "end_time": "2020-12-29T03:38:49.471441",
     "exception": false,
     "start_time": "2020-12-29T03:38:49.417734",
     "status": "completed"
    },
    "tags": []
   },
   "outputs": [
    {
     "data": {
      "text/plain": [
       "(46, 8)"
      ]
     },
     "execution_count": 18,
     "metadata": {},
     "output_type": "execute_result"
    }
   ],
   "source": [
    "df2_cleaned3[df2_cleaned3.isnull().any(axis=1)].shape"
   ]
  },
  {
   "cell_type": "markdown",
   "metadata": {
    "papermill": {
     "duration": 0.032475,
     "end_time": "2020-12-29T03:38:49.540971",
     "exception": false,
     "start_time": "2020-12-29T03:38:49.508496",
     "status": "completed"
    },
    "tags": []
   },
   "source": [
    "above output shows that we have 46 missing values in 8 column"
   ]
  },
  {
   "cell_type": "markdown",
   "metadata": {
    "papermill": {
     "duration": 0.033157,
     "end_time": "2020-12-29T03:38:49.606742",
     "exception": false,
     "start_time": "2020-12-29T03:38:49.573585",
     "status": "completed"
    },
    "tags": []
   },
   "source": [
    "# Imputation :\n",
    "\n",
    " To replace missing values with some logical value\n",
    " ~ if outliers are removed from data then use mean imputation \n",
    " ~ if outliers are not removed from data then use median imputation\n",
    " ~ if data is categorical then use mode imputation \n",
    " "
   ]
  },
  {
   "cell_type": "markdown",
   "metadata": {
    "papermill": {
     "duration": 0.032466,
     "end_time": "2020-12-29T03:38:49.673241",
     "exception": false,
     "start_time": "2020-12-29T03:38:49.640775",
     "status": "completed"
    },
    "tags": []
   },
   "source": [
    "# Mean Imputation :"
   ]
  },
  {
   "cell_type": "code",
   "execution_count": 19,
   "metadata": {
    "execution": {
     "iopub.execute_input": "2020-12-29T03:38:49.747740Z",
     "iopub.status.busy": "2020-12-29T03:38:49.746650Z",
     "iopub.status.idle": "2020-12-29T03:38:49.752422Z",
     "shell.execute_reply": "2020-12-29T03:38:49.751647Z"
    },
    "papermill": {
     "duration": 0.046192,
     "end_time": "2020-12-29T03:38:49.752546",
     "exception": false,
     "start_time": "2020-12-29T03:38:49.706354",
     "status": "completed"
    },
    "tags": []
   },
   "outputs": [
    {
     "data": {
      "text/plain": [
       "Ozone      38\n",
       "solar       7\n",
       "Wind        0\n",
       "Month       1\n",
       "Day         0\n",
       "Year        0\n",
       "Temp        0\n",
       "Weather     3\n",
       "dtype: int64"
      ]
     },
     "execution_count": 19,
     "metadata": {},
     "output_type": "execute_result"
    }
   ],
   "source": [
    "df2_cleaned3.isnull().sum()  # sum of null values within each column"
   ]
  },
  {
   "cell_type": "code",
   "execution_count": 20,
   "metadata": {
    "execution": {
     "iopub.execute_input": "2020-12-29T03:38:49.845644Z",
     "iopub.status.busy": "2020-12-29T03:38:49.845006Z",
     "iopub.status.idle": "2020-12-29T03:38:49.850487Z",
     "shell.execute_reply": "2020-12-29T03:38:49.849958Z"
    },
    "papermill": {
     "duration": 0.06244,
     "end_time": "2020-12-29T03:38:49.850661",
     "exception": false,
     "start_time": "2020-12-29T03:38:49.788221",
     "status": "completed"
    },
    "tags": []
   },
   "outputs": [
    {
     "data": {
      "text/plain": [
       "41.81512605042017"
      ]
     },
     "execution_count": 20,
     "metadata": {},
     "output_type": "execute_result"
    }
   ],
   "source": [
    "mean = df2_cleaned3[\"Ozone\"].mean()     # mean of 'Ozone' column data\n",
    "mean"
   ]
  },
  {
   "cell_type": "markdown",
   "metadata": {
    "papermill": {
     "duration": 0.034343,
     "end_time": "2020-12-29T03:38:49.925001",
     "exception": false,
     "start_time": "2020-12-29T03:38:49.890658",
     "status": "completed"
    },
    "tags": []
   },
   "source": [
    "# Fill null value :\n",
    "\n",
    " Here, we're filling null values with mean of data"
   ]
  },
  {
   "cell_type": "code",
   "execution_count": 21,
   "metadata": {
    "execution": {
     "iopub.execute_input": "2020-12-29T03:38:50.002891Z",
     "iopub.status.busy": "2020-12-29T03:38:50.001988Z",
     "iopub.status.idle": "2020-12-29T03:38:50.006087Z",
     "shell.execute_reply": "2020-12-29T03:38:50.005469Z"
    },
    "papermill": {
     "duration": 0.047815,
     "end_time": "2020-12-29T03:38:50.006209",
     "exception": false,
     "start_time": "2020-12-29T03:38:49.958394",
     "status": "completed"
    },
    "tags": []
   },
   "outputs": [
    {
     "data": {
      "text/plain": [
       "0      41.000000\n",
       "1      36.000000\n",
       "2      12.000000\n",
       "3      18.000000\n",
       "4      41.815126\n",
       "         ...    \n",
       "152    20.000000\n",
       "153    41.000000\n",
       "154    30.000000\n",
       "155    41.815126\n",
       "157    18.000000\n",
       "Name: Ozone, Length: 157, dtype: float64"
      ]
     },
     "execution_count": 21,
     "metadata": {},
     "output_type": "execute_result"
    }
   ],
   "source": [
    "df2_cleaned3[\"Ozone\"] = df2_cleaned3[\"Ozone\"].fillna(mean)\n",
    "df2_cleaned3[\"Ozone\"]"
   ]
  },
  {
   "cell_type": "markdown",
   "metadata": {
    "papermill": {
     "duration": 0.034445,
     "end_time": "2020-12-29T03:38:50.077167",
     "exception": false,
     "start_time": "2020-12-29T03:38:50.042722",
     "status": "completed"
    },
    "tags": []
   },
   "source": [
    "Check Data info :"
   ]
  },
  {
   "cell_type": "code",
   "execution_count": 22,
   "metadata": {
    "execution": {
     "iopub.execute_input": "2020-12-29T03:38:50.161833Z",
     "iopub.status.busy": "2020-12-29T03:38:50.156417Z",
     "iopub.status.idle": "2020-12-29T03:38:50.165432Z",
     "shell.execute_reply": "2020-12-29T03:38:50.165910Z"
    },
    "papermill": {
     "duration": 0.054795,
     "end_time": "2020-12-29T03:38:50.166069",
     "exception": false,
     "start_time": "2020-12-29T03:38:50.111274",
     "status": "completed"
    },
    "tags": []
   },
   "outputs": [
    {
     "name": "stdout",
     "output_type": "stream",
     "text": [
      "<class 'pandas.core.frame.DataFrame'>\n",
      "Int64Index: 157 entries, 0 to 157\n",
      "Data columns (total 8 columns):\n",
      " #   Column   Non-Null Count  Dtype   \n",
      "---  ------   --------------  -----   \n",
      " 0   Ozone    157 non-null    float64 \n",
      " 1   solar    150 non-null    float64 \n",
      " 2   Wind     157 non-null    float64 \n",
      " 3   Month    156 non-null    float64 \n",
      " 4   Day      157 non-null    int64   \n",
      " 5   Year     157 non-null    int64   \n",
      " 6   Temp     157 non-null    int64   \n",
      " 7   Weather  154 non-null    category\n",
      "dtypes: category(1), float64(4), int64(3)\n",
      "memory usage: 15.1 KB\n"
     ]
    }
   ],
   "source": [
    "df2_cleaned3.info()"
   ]
  },
  {
   "cell_type": "markdown",
   "metadata": {
    "papermill": {
     "duration": 0.034254,
     "end_time": "2020-12-29T03:38:50.235054",
     "exception": false,
     "start_time": "2020-12-29T03:38:50.200800",
     "status": "completed"
    },
    "tags": []
   },
   "source": [
    "# For 'solar' column :"
   ]
  },
  {
   "cell_type": "code",
   "execution_count": 23,
   "metadata": {
    "execution": {
     "iopub.execute_input": "2020-12-29T03:38:50.309367Z",
     "iopub.status.busy": "2020-12-29T03:38:50.308379Z",
     "iopub.status.idle": "2020-12-29T03:38:50.321232Z",
     "shell.execute_reply": "2020-12-29T03:38:50.320328Z"
    },
    "papermill": {
     "duration": 0.052726,
     "end_time": "2020-12-29T03:38:50.321411",
     "exception": false,
     "start_time": "2020-12-29T03:38:50.268685",
     "status": "completed"
    },
    "tags": []
   },
   "outputs": [
    {
     "data": {
      "text/plain": [
       "185.36666666666667"
      ]
     },
     "execution_count": 23,
     "metadata": {},
     "output_type": "execute_result"
    }
   ],
   "source": [
    "mean_s = df2_cleaned3[\"solar\"].mean()\n",
    "mean_s"
   ]
  },
  {
   "cell_type": "markdown",
   "metadata": {
    "papermill": {
     "duration": 0.042013,
     "end_time": "2020-12-29T03:38:50.403114",
     "exception": false,
     "start_time": "2020-12-29T03:38:50.361101",
     "status": "completed"
    },
    "tags": []
   },
   "source": [
    "Fill null value in 'solar' column"
   ]
  },
  {
   "cell_type": "code",
   "execution_count": 24,
   "metadata": {
    "execution": {
     "iopub.execute_input": "2020-12-29T03:38:50.483676Z",
     "iopub.status.busy": "2020-12-29T03:38:50.482857Z",
     "iopub.status.idle": "2020-12-29T03:38:50.488513Z",
     "shell.execute_reply": "2020-12-29T03:38:50.487984Z"
    },
    "papermill": {
     "duration": 0.048391,
     "end_time": "2020-12-29T03:38:50.488660",
     "exception": false,
     "start_time": "2020-12-29T03:38:50.440269",
     "status": "completed"
    },
    "tags": []
   },
   "outputs": [
    {
     "data": {
      "text/plain": [
       "0      190.000000\n",
       "1      118.000000\n",
       "2      149.000000\n",
       "3      313.000000\n",
       "4      185.366667\n",
       "          ...    \n",
       "152    223.000000\n",
       "153    190.000000\n",
       "154    193.000000\n",
       "155    145.000000\n",
       "157    131.000000\n",
       "Name: solar, Length: 157, dtype: float64"
      ]
     },
     "execution_count": 24,
     "metadata": {},
     "output_type": "execute_result"
    }
   ],
   "source": [
    "df2_cleaned3[\"solar\"] = df2_cleaned3[\"solar\"].fillna(mean_s)\n",
    "df2_cleaned3[\"solar\"]"
   ]
  },
  {
   "cell_type": "code",
   "execution_count": 25,
   "metadata": {
    "execution": {
     "iopub.execute_input": "2020-12-29T03:38:50.574919Z",
     "iopub.status.busy": "2020-12-29T03:38:50.574137Z",
     "iopub.status.idle": "2020-12-29T03:38:50.578375Z",
     "shell.execute_reply": "2020-12-29T03:38:50.579210Z"
    },
    "papermill": {
     "duration": 0.054164,
     "end_time": "2020-12-29T03:38:50.579455",
     "exception": false,
     "start_time": "2020-12-29T03:38:50.525291",
     "status": "completed"
    },
    "tags": []
   },
   "outputs": [
    {
     "name": "stdout",
     "output_type": "stream",
     "text": [
      "<class 'pandas.core.frame.DataFrame'>\n",
      "Int64Index: 157 entries, 0 to 157\n",
      "Data columns (total 8 columns):\n",
      " #   Column   Non-Null Count  Dtype   \n",
      "---  ------   --------------  -----   \n",
      " 0   Ozone    157 non-null    float64 \n",
      " 1   solar    157 non-null    float64 \n",
      " 2   Wind     157 non-null    float64 \n",
      " 3   Month    156 non-null    float64 \n",
      " 4   Day      157 non-null    int64   \n",
      " 5   Year     157 non-null    int64   \n",
      " 6   Temp     157 non-null    int64   \n",
      " 7   Weather  154 non-null    category\n",
      "dtypes: category(1), float64(4), int64(3)\n",
      "memory usage: 15.1 KB\n"
     ]
    }
   ],
   "source": [
    "df2_cleaned3.info()"
   ]
  },
  {
   "cell_type": "raw",
   "metadata": {
    "papermill": {
     "duration": 0.037058,
     "end_time": "2020-12-29T03:38:50.654240",
     "exception": false,
     "start_time": "2020-12-29T03:38:50.617182",
     "status": "completed"
    },
    "tags": []
   },
   "source": [
    "For 'Month' column :"
   ]
  },
  {
   "cell_type": "code",
   "execution_count": 26,
   "metadata": {
    "execution": {
     "iopub.execute_input": "2020-12-29T03:38:50.743581Z",
     "iopub.status.busy": "2020-12-29T03:38:50.742552Z",
     "iopub.status.idle": "2020-12-29T03:38:50.746377Z",
     "shell.execute_reply": "2020-12-29T03:38:50.746958Z"
    },
    "papermill": {
     "duration": 0.047133,
     "end_time": "2020-12-29T03:38:50.747102",
     "exception": false,
     "start_time": "2020-12-29T03:38:50.699969",
     "status": "completed"
    },
    "tags": []
   },
   "outputs": [
    {
     "data": {
      "text/plain": [
       "0    S\n",
       "Name: Weather, dtype: category\n",
       "Categories (3, object): ['C', 'PS', 'S']"
      ]
     },
     "execution_count": 26,
     "metadata": {},
     "output_type": "execute_result"
    }
   ],
   "source": [
    "mode = df2_cleaned3[\"Weather\"].mode()\n",
    "mode"
   ]
  },
  {
   "cell_type": "markdown",
   "metadata": {
    "papermill": {
     "duration": 0.035436,
     "end_time": "2020-12-29T03:38:50.817876",
     "exception": false,
     "start_time": "2020-12-29T03:38:50.782440",
     "status": "completed"
    },
    "tags": []
   },
   "source": [
    "Fill null value in 'Weather' column :"
   ]
  },
  {
   "cell_type": "code",
   "execution_count": 27,
   "metadata": {
    "execution": {
     "iopub.execute_input": "2020-12-29T03:38:50.894822Z",
     "iopub.status.busy": "2020-12-29T03:38:50.893810Z",
     "iopub.status.idle": "2020-12-29T03:38:50.904603Z",
     "shell.execute_reply": "2020-12-29T03:38:50.905174Z"
    },
    "papermill": {
     "duration": 0.051722,
     "end_time": "2020-12-29T03:38:50.905317",
     "exception": false,
     "start_time": "2020-12-29T03:38:50.853595",
     "status": "completed"
    },
    "tags": []
   },
   "outputs": [
    {
     "data": {
      "text/plain": [
       "0       S\n",
       "1       C\n",
       "2      PS\n",
       "3       S\n",
       "4       S\n",
       "       ..\n",
       "152     S\n",
       "153     C\n",
       "154    PS\n",
       "155     S\n",
       "157     C\n",
       "Name: Weather, Length: 157, dtype: category\n",
       "Categories (3, object): ['C', 'PS', 'S']"
      ]
     },
     "execution_count": 27,
     "metadata": {},
     "output_type": "execute_result"
    }
   ],
   "source": [
    "df2_cleaned3[\"Weather\"] = df2_cleaned3[\"Weather\"].fillna('S')     # mode of weather is 'S'\n",
    "df2_cleaned3[\"Weather\"]"
   ]
  },
  {
   "cell_type": "code",
   "execution_count": 28,
   "metadata": {
    "execution": {
     "iopub.execute_input": "2020-12-29T03:38:50.986529Z",
     "iopub.status.busy": "2020-12-29T03:38:50.985504Z",
     "iopub.status.idle": "2020-12-29T03:38:50.999299Z",
     "shell.execute_reply": "2020-12-29T03:38:50.998517Z"
    },
    "papermill": {
     "duration": 0.054087,
     "end_time": "2020-12-29T03:38:50.999457",
     "exception": false,
     "start_time": "2020-12-29T03:38:50.945370",
     "status": "completed"
    },
    "tags": []
   },
   "outputs": [
    {
     "name": "stdout",
     "output_type": "stream",
     "text": [
      "<class 'pandas.core.frame.DataFrame'>\n",
      "Int64Index: 157 entries, 0 to 157\n",
      "Data columns (total 8 columns):\n",
      " #   Column   Non-Null Count  Dtype   \n",
      "---  ------   --------------  -----   \n",
      " 0   Ozone    157 non-null    float64 \n",
      " 1   solar    157 non-null    float64 \n",
      " 2   Wind     157 non-null    float64 \n",
      " 3   Month    156 non-null    float64 \n",
      " 4   Day      157 non-null    int64   \n",
      " 5   Year     157 non-null    int64   \n",
      " 6   Temp     157 non-null    int64   \n",
      " 7   Weather  157 non-null    category\n",
      "dtypes: category(1), float64(4), int64(3)\n",
      "memory usage: 15.1 KB\n"
     ]
    }
   ],
   "source": [
    "df2_cleaned3.info()"
   ]
  },
  {
   "cell_type": "markdown",
   "metadata": {
    "papermill": {
     "duration": 0.03642,
     "end_time": "2020-12-29T03:38:51.073602",
     "exception": false,
     "start_time": "2020-12-29T03:38:51.037182",
     "status": "completed"
    },
    "tags": []
   },
   "source": [
    "For 'Month' column :"
   ]
  },
  {
   "cell_type": "code",
   "execution_count": 29,
   "metadata": {
    "execution": {
     "iopub.execute_input": "2020-12-29T03:38:51.154709Z",
     "iopub.status.busy": "2020-12-29T03:38:51.154016Z",
     "iopub.status.idle": "2020-12-29T03:38:51.157782Z",
     "shell.execute_reply": "2020-12-29T03:38:51.158230Z"
    },
    "papermill": {
     "duration": 0.04758,
     "end_time": "2020-12-29T03:38:51.158381",
     "exception": false,
     "start_time": "2020-12-29T03:38:51.110801",
     "status": "completed"
    },
    "tags": []
   },
   "outputs": [
    {
     "data": {
      "text/plain": [
       "7.032051282051282"
      ]
     },
     "execution_count": 29,
     "metadata": {},
     "output_type": "execute_result"
    }
   ],
   "source": [
    "mean_m = df2_cleaned3[\"Month\"].mean()\n",
    "mean_m"
   ]
  },
  {
   "cell_type": "markdown",
   "metadata": {
    "papermill": {
     "duration": 0.036599,
     "end_time": "2020-12-29T03:38:51.231657",
     "exception": false,
     "start_time": "2020-12-29T03:38:51.195058",
     "status": "completed"
    },
    "tags": []
   },
   "source": [
    "Fill null value in 'Month' column "
   ]
  },
  {
   "cell_type": "code",
   "execution_count": 30,
   "metadata": {
    "execution": {
     "iopub.execute_input": "2020-12-29T03:38:51.311297Z",
     "iopub.status.busy": "2020-12-29T03:38:51.310638Z",
     "iopub.status.idle": "2020-12-29T03:38:51.319488Z",
     "shell.execute_reply": "2020-12-29T03:38:51.318801Z"
    },
    "papermill": {
     "duration": 0.04944,
     "end_time": "2020-12-29T03:38:51.319625",
     "exception": false,
     "start_time": "2020-12-29T03:38:51.270185",
     "status": "completed"
    },
    "tags": []
   },
   "outputs": [
    {
     "data": {
      "text/plain": [
       "0      5.0\n",
       "1      5.0\n",
       "2      5.0\n",
       "3      5.0\n",
       "4      5.0\n",
       "      ... \n",
       "152    9.0\n",
       "153    5.0\n",
       "154    9.0\n",
       "155    9.0\n",
       "157    9.0\n",
       "Name: Month, Length: 157, dtype: float64"
      ]
     },
     "execution_count": 30,
     "metadata": {},
     "output_type": "execute_result"
    }
   ],
   "source": [
    "df2_cleaned3[\"Month\"] = df2_cleaned3[\"Month\"].fillna(7)     # here we use 7.032 = 7, bcz month is intiger value\n",
    "df2_cleaned3[\"Month\"]"
   ]
  },
  {
   "cell_type": "code",
   "execution_count": 31,
   "metadata": {
    "execution": {
     "iopub.execute_input": "2020-12-29T03:38:51.407799Z",
     "iopub.status.busy": "2020-12-29T03:38:51.403486Z",
     "iopub.status.idle": "2020-12-29T03:38:51.412150Z",
     "shell.execute_reply": "2020-12-29T03:38:51.411378Z"
    },
    "papermill": {
     "duration": 0.055008,
     "end_time": "2020-12-29T03:38:51.412272",
     "exception": false,
     "start_time": "2020-12-29T03:38:51.357264",
     "status": "completed"
    },
    "tags": []
   },
   "outputs": [
    {
     "name": "stdout",
     "output_type": "stream",
     "text": [
      "<class 'pandas.core.frame.DataFrame'>\n",
      "Int64Index: 157 entries, 0 to 157\n",
      "Data columns (total 8 columns):\n",
      " #   Column   Non-Null Count  Dtype   \n",
      "---  ------   --------------  -----   \n",
      " 0   Ozone    157 non-null    float64 \n",
      " 1   solar    157 non-null    float64 \n",
      " 2   Wind     157 non-null    float64 \n",
      " 3   Month    157 non-null    float64 \n",
      " 4   Day      157 non-null    int64   \n",
      " 5   Year     157 non-null    int64   \n",
      " 6   Temp     157 non-null    int64   \n",
      " 7   Weather  157 non-null    category\n",
      "dtypes: category(1), float64(4), int64(3)\n",
      "memory usage: 15.1 KB\n"
     ]
    }
   ],
   "source": [
    "df2_cleaned3.info()"
   ]
  },
  {
   "cell_type": "markdown",
   "metadata": {
    "papermill": {
     "duration": 0.038983,
     "end_time": "2020-12-29T03:38:51.489555",
     "exception": false,
     "start_time": "2020-12-29T03:38:51.450572",
     "status": "completed"
    },
    "tags": []
   },
   "source": [
    "Data Received after performing some cleaning and filling operation, data is ready to perform or estimante prediction."
   ]
  }
 ],
 "metadata": {
  "kernelspec": {
   "display_name": "Python 3",
   "language": "python",
   "name": "python3"
  },
  "language_info": {
   "codemirror_mode": {
    "name": "ipython",
    "version": 3
   },
   "file_extension": ".py",
   "mimetype": "text/x-python",
   "name": "python",
   "nbconvert_exporter": "python",
   "pygments_lexer": "ipython3",
   "version": "3.7.6"
  },
  "papermill": {
   "duration": 11.574643,
   "end_time": "2020-12-29T03:38:51.634298",
   "environment_variables": {},
   "exception": null,
   "input_path": "__notebook__.ipynb",
   "output_path": "__notebook__.ipynb",
   "parameters": {},
   "start_time": "2020-12-29T03:38:40.059655",
   "version": "2.1.0"
  }
 },
 "nbformat": 4,
 "nbformat_minor": 4
}
